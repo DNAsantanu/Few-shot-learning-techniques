{
 "cells": [
  {
   "cell_type": "markdown",
   "id": "2f3bd097",
   "metadata": {},
   "source": [
    "### Training data creation:"
   ]
  },
  {
   "cell_type": "code",
   "execution_count": 12,
   "id": "3ca8baa6",
   "metadata": {},
   "outputs": [
    {
     "name": "stdout",
     "output_type": "stream",
     "text": [
      "🔍 Processing 5 files for task: Invoice\n",
      "🔍 Processing 5 files for task: Loan\n",
      "🔍 Processing 5 files for task: Final Bill\n",
      "🔍 Processing 5 files for task: Background Verification\n",
      "Saved all 20 graphs to training_dataset_05.pt\n"
     ]
    },
    {
     "name": "stderr",
     "output_type": "stream",
     "text": [
      "C:\\Users\\User\\AppData\\Local\\Temp\\ipykernel_26864\\3395761422.py:25: FutureWarning: You are using `torch.load` with `weights_only=False` (the current default value), which uses the default pickle module implicitly. It is possible to construct malicious pickle data which will execute arbitrary code during unpickling (See https://github.com/pytorch/pytorch/blob/main/SECURITY.md#untrusted-models for more details). In a future release, the default value for `weights_only` will be flipped to `True`. This limits the functions that could be executed during unpickling. Arbitrary objects will no longer be allowed to be loaded via this mode unless they are explicitly allowlisted by the user via `torch.serialization.add_safe_globals`. We recommend you start setting `weights_only=True` for any use case where you don't have full control of the loaded file. Please open an issue on GitHub for any issues related to this experimental feature.\n",
      "  data = torch.load(graph_path)\n"
     ]
    }
   ],
   "source": [
    "import os\n",
    "import torch\n",
    "from torch_geometric.data import Data\n",
    "\n",
    "# Define your document types and their data folder paths\n",
    "task_folders = {\n",
    "    \"Invoice\": \"data/invoice/\",\n",
    "    \"Loan\": \"data/loan/\",\n",
    "    \"Final Bill\": \"data/final_bill/\",\n",
    "    \"Background Verification\": \"data/background_verification/\",\n",
    "    # \"Operative Report\": \"data/operative_report/\"\n",
    "}\n",
    "\n",
    "all_graphs = []\n",
    "\n",
    "for task_name, folder_path in task_folders.items():\n",
    "    if not os.path.exists(folder_path):\n",
    "        print(f\"⚠️ Folder not found: {folder_path}\")\n",
    "        continue\n",
    "    graph_files = [f for f in os.listdir(folder_path) if f.endswith(\".pt\")]\n",
    "\n",
    "    print(f\"🔍 Processing {len(graph_files)} files for task: {task_name}\")\n",
    "    for file in graph_files:\n",
    "        graph_path = os.path.join(folder_path, file)\n",
    "        data = torch.load(graph_path)\n",
    "        if isinstance(data, list):\n",
    "           for d in data:\n",
    "               d.task = task_name\n",
    "               all_graphs.append(d)\n",
    "        else:\n",
    "            data.task = task_name\n",
    "            all_graphs.append(data)\n",
    "\n",
    "# Save to one master file\n",
    "os.makedirs(\"data/training_data\", exist_ok=True)\n",
    "torch.save(all_graphs, \"data/training_data/training_dataset_05.pt\")\n",
    "print(f\"Saved all {len(all_graphs)} graphs to training_dataset_05.pt\")\n"
   ]
  },
  {
   "cell_type": "markdown",
   "id": "48b49ff7",
   "metadata": {},
   "source": [
    "### Testing data creation:"
   ]
  },
  {
   "cell_type": "code",
   "execution_count": 13,
   "id": "4ec11743",
   "metadata": {},
   "outputs": [
    {
     "name": "stdout",
     "output_type": "stream",
     "text": [
      "🔍 Processing 5 files for task: PR2\n",
      "Saved all 5 graphs to test_dataset_PR2.pt\n"
     ]
    },
    {
     "name": "stderr",
     "output_type": "stream",
     "text": [
      "C:\\Users\\User\\AppData\\Local\\Temp\\ipykernel_26864\\2854639853.py:26: FutureWarning: You are using `torch.load` with `weights_only=False` (the current default value), which uses the default pickle module implicitly. It is possible to construct malicious pickle data which will execute arbitrary code during unpickling (See https://github.com/pytorch/pytorch/blob/main/SECURITY.md#untrusted-models for more details). In a future release, the default value for `weights_only` will be flipped to `True`. This limits the functions that could be executed during unpickling. Arbitrary objects will no longer be allowed to be loaded via this mode unless they are explicitly allowlisted by the user via `torch.serialization.add_safe_globals`. We recommend you start setting `weights_only=True` for any use case where you don't have full control of the loaded file. Please open an issue on GitHub for any issues related to this experimental feature.\n",
      "  data = torch.load(graph_path)\n"
     ]
    }
   ],
   "source": [
    "import os\n",
    "import torch\n",
    "from torch_geometric.data import Data\n",
    "\n",
    "# Define your document types and their data folder paths\n",
    "task_folders = {\n",
    "    # \"Invoice\": \"data/invoice/\",\n",
    "    # \"Loan\": \"data/loan/\",\n",
    "    # \"Final Bill\": \"data/final_bill/\",\n",
    "    # \"Background Verification\": \"data/background_verification/\",\n",
    "    # \"Operative Report\": \"data/operative_report/\"\n",
    "    \"PR2\": \"data/PR2/\"\n",
    "}\n",
    "\n",
    "all_graphs = []\n",
    "\n",
    "for task_name, folder_path in task_folders.items():\n",
    "    if not os.path.exists(folder_path):\n",
    "        print(f\" Folder not found: {folder_path}\")\n",
    "        continue\n",
    "    graph_files = [f for f in os.listdir(folder_path) if f.endswith(\"\")]\n",
    "\n",
    "    print(f\"🔍 Processing {len(graph_files)} files for task: {task_name}\")\n",
    "    for file in graph_files:\n",
    "        graph_path = os.path.join(folder_path, file)\n",
    "        data = torch.load(graph_path)\n",
    "        if isinstance(data, list):\n",
    "           for d in data:\n",
    "               d.task = task_name\n",
    "               all_graphs.append(d)\n",
    "        else:\n",
    "            data.task = task_name\n",
    "            all_graphs.append(data)\n",
    "\n",
    "# Save to one master file\n",
    "os.makedirs(\"data/test_data\", exist_ok=True)\n",
    "torch.save(all_graphs, \"data/test_data/test_dataset_PR2.pt\")\n",
    "print(f\"Saved all {len(all_graphs)} graphs to test_dataset_PR2.pt\")\n"
   ]
  }
 ],
 "metadata": {
  "kernelspec": {
   "display_name": "ENVGAT",
   "language": "python",
   "name": "python3"
  },
  "language_info": {
   "codemirror_mode": {
    "name": "ipython",
    "version": 3
   },
   "file_extension": ".py",
   "mimetype": "text/x-python",
   "name": "python",
   "nbconvert_exporter": "python",
   "pygments_lexer": "ipython3",
   "version": "3.10.18"
  }
 },
 "nbformat": 4,
 "nbformat_minor": 5
}
